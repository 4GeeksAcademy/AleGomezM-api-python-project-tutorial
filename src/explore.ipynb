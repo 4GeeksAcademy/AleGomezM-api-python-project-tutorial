{
    "cells": [
        {
            "cell_type": "markdown",
            "metadata": {},
            "source": [
                "# Exploración "
            ]
        },
        {
            "cell_type": "markdown",
            "metadata": {},
            "source": [
                "2. configuración inicial e importación de librerias"
            ]
        },
        {
            "cell_type": "code",
            "execution_count": 2,
            "metadata": {},
            "outputs": [],
            "source": [
                "import os\n",
                "import pandas as pd\n",
                "import seaborn as sns\n",
                "from dotenv import load_dotenv\n",
                "import spotipy\n",
                "import matplotlib.pyplot as plt\n",
                "from spotipy.oauth2 import SpotifyClientCredentials\n"
            ]
        },
        {
            "cell_type": "markdown",
            "metadata": {},
            "source": [
                "3. Cargar variables de entorno y ambiente"
            ]
        },
        {
            "cell_type": "code",
            "execution_count": 3,
            "metadata": {},
            "outputs": [],
            "source": [
                "# load the .env file variables\n",
                "load_dotenv()\n",
                "\n",
                "# Get credential values\n",
                "client_id = os.environ.get(\"CLIENT_ID\")\n",
                "client_secret = os.environ.get(\"CLIENT_SECRET\")"
            ]
        },
        {
            "cell_type": "markdown",
            "metadata": {},
            "source": [
                "4. Inicializar la biblioteca Spotipy"
            ]
        },
        {
            "cell_type": "code",
            "execution_count": 4,
            "metadata": {},
            "outputs": [],
            "source": [
                "# Gestion del proceso de autenticacion a la API de spotify\n",
                "auth_manager = SpotifyClientCredentials(client_id=client_id, client_secret=client_secret)\n",
                "spotify = spotipy.Spotify(auth_manager=auth_manager)\n"
            ]
        },
        {
            "cell_type": "markdown",
            "metadata": {},
            "source": [
                "5. Realizar solicitudes a la API"
            ]
        },
        {
            "cell_type": "code",
            "execution_count": 5,
            "metadata": {},
            "outputs": [],
            "source": [
                "oasis_id = '2DaxqgrOhkeH0fpeiQq2f4'\n",
                "canciones_top=spotify.artist_top_tracks(oasis_id, country='US')"
            ]
        },
        {
            "cell_type": "markdown",
            "metadata": {},
            "source": [
                "6. Transformar la info obtenida a un DataFrame "
            ]
        },
        {
            "cell_type": "code",
            "execution_count": 6,
            "metadata": {},
            "outputs": [
                {
                    "name": "stdout",
                    "output_type": "stream",
                    "text": [
                        "                                   track  duracion_m  duration_ms  popularity\n",
                        "0                Wonderwall - Remastered        4.31       258773          81\n",
                        "1  Don't Look Back In Anger - Remastered        4.83       289560          77\n",
                        "2             Stop Crying Your Heart Out        5.05       303120          70\n",
                        "3       Champagne Supernova - Remastered        7.52       451320          73\n",
                        "4              Live Forever - Remastered        4.61       276666          71\n",
                        "5               Stand By Me - Remastered        5.93       355866          66\n",
                        "6                Supersonic - Remastered        4.73       283786          68\n",
                        "7            She's Electric - Remastered        3.68       220920          67\n",
                        "8     Married With Children - Remastered        3.25       195000          63\n",
                        "9                Slide Away - Remastered        6.54       392306          64\n"
                    ]
                },
                {
                    "data": {
                        "text/html": [
                            "<div>\n",
                            "<style scoped>\n",
                            "    .dataframe tbody tr th:only-of-type {\n",
                            "        vertical-align: middle;\n",
                            "    }\n",
                            "\n",
                            "    .dataframe tbody tr th {\n",
                            "        vertical-align: top;\n",
                            "    }\n",
                            "\n",
                            "    .dataframe thead th {\n",
                            "        text-align: right;\n",
                            "    }\n",
                            "</style>\n",
                            "<table border=\"1\" class=\"dataframe\">\n",
                            "  <thead>\n",
                            "    <tr style=\"text-align: right;\">\n",
                            "      <th></th>\n",
                            "      <th>track</th>\n",
                            "      <th>duracion_m</th>\n",
                            "      <th>duration_ms</th>\n",
                            "      <th>popularity</th>\n",
                            "    </tr>\n",
                            "  </thead>\n",
                            "  <tbody>\n",
                            "    <tr>\n",
                            "      <th>0</th>\n",
                            "      <td>Wonderwall - Remastered</td>\n",
                            "      <td>4.31</td>\n",
                            "      <td>258773</td>\n",
                            "      <td>81</td>\n",
                            "    </tr>\n",
                            "    <tr>\n",
                            "      <th>1</th>\n",
                            "      <td>Don't Look Back In Anger - Remastered</td>\n",
                            "      <td>4.83</td>\n",
                            "      <td>289560</td>\n",
                            "      <td>77</td>\n",
                            "    </tr>\n",
                            "    <tr>\n",
                            "      <th>3</th>\n",
                            "      <td>Champagne Supernova - Remastered</td>\n",
                            "      <td>7.52</td>\n",
                            "      <td>451320</td>\n",
                            "      <td>73</td>\n",
                            "    </tr>\n",
                            "  </tbody>\n",
                            "</table>\n",
                            "</div>"
                        ],
                        "text/plain": [
                            "                                   track  duracion_m  duration_ms  popularity\n",
                            "0                Wonderwall - Remastered        4.31       258773          81\n",
                            "1  Don't Look Back In Anger - Remastered        4.83       289560          77\n",
                            "3       Champagne Supernova - Remastered        7.52       451320          73"
                        ]
                    },
                    "execution_count": 6,
                    "metadata": {},
                    "output_type": "execute_result"
                }
            ],
            "source": [
                "#Creamos un ciclo para obtener las 10 canciones top del artista en forma de diccionario\n",
                "data = []\n",
                "\n",
                "for track in canciones_top['tracks']:\n",
                "\n",
                "    data.append({\n",
                "        'track': track['name'],\n",
                "        'duration_ms': track['duration_ms'],\n",
                "        'popularity': track['popularity']\n",
                "    })\n",
                "\n",
                "\n",
                "# A partir del diccionario data creamos un dataframe \n",
                "top_data = pd.DataFrame(data)\n",
                "\n",
                "#Creamos una fila llamada duracion_m para tener el tiempo en minutos e interpretarlo mas facil en el siguiente punto\n",
                "duracion_m=round(top_data['duration_ms']/60000, 2)\n",
                "top_data.insert(1, 'duracion_m', duracion_m)\n",
                "print(top_data)\n",
                "\n",
                "# crear un dataframe con las canciones ordenadas por popularidad y mostramos las 3 primeras\n",
                "top_ordenda=top_data.sort_values(\"popularity\", ascending=False)\n",
                "top_ordenda.head(3)"
            ]
        },
        {
            "cell_type": "markdown",
            "metadata": {},
            "source": [
                "7. Analizar relación estadística"
            ]
        },
        {
            "cell_type": "code",
            "execution_count": null,
            "metadata": {},
            "outputs": [
                {
                    "data": {
                        "image/png": "[encoded data removed]",
                        "text/plain": [
                            "<Figure size 640x480 with 1 Axes>"
                        ]
                    },
                    "metadata": {},
                    "output_type": "display_data"
                }
            ],
            "source": [
                "# Se crea la gráfica\n",
                "sns.scatterplot(x='duracion_m', y='popularity', data=top_data)\n",
                "plt.title(\"Popularidad vs duración de la canción\")\n",
                "plt.show()"
            ]
        },
        {
            "cell_type": "markdown",
            "metadata": {},
            "source": [
                "Posterior a la obtencion del grafico de disperción con los 10 puntos que relacionan la duración de las 10 canciones top de la agrupacion Oasis con su duración, se concluye que no hay una relación directa o indirecta, pues la cancion más popular no es la más larga, ya que las dos camciones mas populares duran un poco mas de 4 minutos lo cual es un tiempo aceptable, y la tercera dura mas de 7 minutos, lo cual es bastante atipico. Las demas canciones se encuentran en todo el rango, sin tener un comportamiento que siga un patron. Tambien hay que resaltar que las canciones top de Oasis tienen la mayoria una duración mas alta de lo normal y que problamente una muestra de 10 canciones es talvez muy pequeña para concluir esta relación de manera generalizada."
            ]
        }
    ],
    "metadata": {
        "kernelspec": {
            "display_name": "Python 3",
            "language": "python",
            "name": "python3"
        },
        "language_info": {
            "codemirror_mode": {
                "name": "ipython",
                "version": 3
            },
            "file_extension": ".py",
            "mimetype": "text/x-python",
            "name": "python",
            "nbconvert_exporter": "python",
            "pygments_lexer": "ipython3",
            "version": "3.11.4"
        },
        "orig_nbformat": 4
    },
    "nbformat": 4,
    "nbformat_minor": 2
}
